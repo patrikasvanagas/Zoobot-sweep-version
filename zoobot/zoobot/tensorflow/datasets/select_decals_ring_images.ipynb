{
 "cells": [
  {
   "cell_type": "code",
   "execution_count": 1,
   "id": "f687a63e-1da1-4d72-b05f-ee59d007783d",
   "metadata": {},
   "outputs": [],
   "source": [
    "import pandas as pd\n",
    "\n",
    "\n",
    "from zoobot.tensorflow.datasets import rings\n"
   ]
  },
  {
   "cell_type": "markdown",
   "id": "f70ff2c0",
   "metadata": {},
   "source": [
    "Finetuning needs ring images. The \"advanced\" catalog uses DECaLS images. But the user need not download *every* DECaLS image (100GB).\n",
    "\n",
    "This notebook identifies which DECaLS galaxies are relevant to ring finetuning and writes their iaunames to a text file. \n",
    "\n",
    "I then upload those galaxies (manually) to Dropbox so that users can download them.\n",
    "\n",
    "(In practice, I use the list to rsync them from the decals pile to a new pile, all on lofar9, then tar.gzip)"
   ]
  },
  {
   "cell_type": "code",
   "execution_count": 2,
   "id": "03c5448e-1d07-4a94-b34b-af5a53f7934a",
   "metadata": {},
   "outputs": [],
   "source": [
    "df = pd.read_parquet('/Users/walml/repos/zoobot/data/example_ring_catalog_advanced.parquet')"
   ]
  },
  {
   "cell_type": "code",
   "execution_count": 3,
   "id": "56ae3ff8-cff6-4cc3-bebe-5c4b11f2323a",
   "metadata": {},
   "outputs": [
    {
     "data": {
      "text/html": [
       "<div>\n",
       "<style scoped>\n",
       "    .dataframe tbody tr th:only-of-type {\n",
       "        vertical-align: middle;\n",
       "    }\n",
       "\n",
       "    .dataframe tbody tr th {\n",
       "        vertical-align: top;\n",
       "    }\n",
       "\n",
       "    .dataframe thead th {\n",
       "        text-align: right;\n",
       "    }\n",
       "</style>\n",
       "<table border=\"1\" class=\"dataframe\">\n",
       "  <thead>\n",
       "    <tr style=\"text-align: right;\">\n",
       "      <th></th>\n",
       "      <th>iauname</th>\n",
       "      <th>smooth-or-featured_featured-or-disk_fraction</th>\n",
       "      <th>disk-edge-on_no_fraction</th>\n",
       "      <th>rare-features_ring</th>\n",
       "      <th>rare-features_ring_fraction</th>\n",
       "      <th>rare-features_total</th>\n",
       "      <th>local_png_loc</th>\n",
       "    </tr>\n",
       "  </thead>\n",
       "  <tbody>\n",
       "    <tr>\n",
       "      <th>0</th>\n",
       "      <td>J000000.80+004200.0</td>\n",
       "      <td>0.257492</td>\n",
       "      <td>0.910869</td>\n",
       "      <td>1</td>\n",
       "      <td>0.125000</td>\n",
       "      <td>8</td>\n",
       "      <td>J000/J000000.80+004200.0.png</td>\n",
       "    </tr>\n",
       "    <tr>\n",
       "      <th>1</th>\n",
       "      <td>J000001.03+003228.7</td>\n",
       "      <td>0.126510</td>\n",
       "      <td>0.911055</td>\n",
       "      <td>1</td>\n",
       "      <td>0.111111</td>\n",
       "      <td>9</td>\n",
       "      <td>J000/J000001.03+003228.7.png</td>\n",
       "    </tr>\n",
       "    <tr>\n",
       "      <th>2</th>\n",
       "      <td>J000001.55-000533.3</td>\n",
       "      <td>0.167366</td>\n",
       "      <td>0.536398</td>\n",
       "      <td>0</td>\n",
       "      <td>0.000000</td>\n",
       "      <td>5</td>\n",
       "      <td>J000/J000001.55-000533.3.png</td>\n",
       "    </tr>\n",
       "    <tr>\n",
       "      <th>3</th>\n",
       "      <td>J000001.85+004309.3</td>\n",
       "      <td>0.134337</td>\n",
       "      <td>0.664886</td>\n",
       "      <td>0</td>\n",
       "      <td>0.000000</td>\n",
       "      <td>4</td>\n",
       "      <td>J000/J000001.85+004309.3.png</td>\n",
       "    </tr>\n",
       "    <tr>\n",
       "      <th>4</th>\n",
       "      <td>J000002.29-042805.0</td>\n",
       "      <td>0.908152</td>\n",
       "      <td>0.977085</td>\n",
       "      <td>0</td>\n",
       "      <td>0.000000</td>\n",
       "      <td>4</td>\n",
       "      <td>J000/J000002.29-042805.0.png</td>\n",
       "    </tr>\n",
       "    <tr>\n",
       "      <th>...</th>\n",
       "      <td>...</td>\n",
       "      <td>...</td>\n",
       "      <td>...</td>\n",
       "      <td>...</td>\n",
       "      <td>...</td>\n",
       "      <td>...</td>\n",
       "      <td>...</td>\n",
       "    </tr>\n",
       "    <tr>\n",
       "      <th>253281</th>\n",
       "      <td>J235953.19+001811.8</td>\n",
       "      <td>0.385464</td>\n",
       "      <td>0.972178</td>\n",
       "      <td>0</td>\n",
       "      <td>0.000000</td>\n",
       "      <td>6</td>\n",
       "      <td>J235/J235953.19+001811.8.png</td>\n",
       "    </tr>\n",
       "    <tr>\n",
       "      <th>253282</th>\n",
       "      <td>J235953.74+003322.2</td>\n",
       "      <td>0.921103</td>\n",
       "      <td>0.970179</td>\n",
       "      <td>2</td>\n",
       "      <td>0.333333</td>\n",
       "      <td>6</td>\n",
       "      <td>J235/J235953.74+003322.2.png</td>\n",
       "    </tr>\n",
       "    <tr>\n",
       "      <th>253283</th>\n",
       "      <td>J235956.86-011324.2</td>\n",
       "      <td>0.300846</td>\n",
       "      <td>0.802763</td>\n",
       "      <td>1</td>\n",
       "      <td>0.500000</td>\n",
       "      <td>2</td>\n",
       "      <td>J235/J235956.86-011324.2.png</td>\n",
       "    </tr>\n",
       "    <tr>\n",
       "      <th>253284</th>\n",
       "      <td>J235959.40+083353.0</td>\n",
       "      <td>0.481616</td>\n",
       "      <td>0.974226</td>\n",
       "      <td>0</td>\n",
       "      <td>0.000000</td>\n",
       "      <td>2</td>\n",
       "      <td>J235/J235959.40+083353.0.png</td>\n",
       "    </tr>\n",
       "    <tr>\n",
       "      <th>253285</th>\n",
       "      <td>J235959.50+003645.4</td>\n",
       "      <td>0.097810</td>\n",
       "      <td>0.950038</td>\n",
       "      <td>0</td>\n",
       "      <td>0.000000</td>\n",
       "      <td>5</td>\n",
       "      <td>J235/J235959.50+003645.4.png</td>\n",
       "    </tr>\n",
       "  </tbody>\n",
       "</table>\n",
       "<p>253286 rows × 7 columns</p>\n",
       "</div>"
      ],
      "text/plain": [
       "                    iauname  smooth-or-featured_featured-or-disk_fraction  \\\n",
       "0       J000000.80+004200.0                                      0.257492   \n",
       "1       J000001.03+003228.7                                      0.126510   \n",
       "2       J000001.55-000533.3                                      0.167366   \n",
       "3       J000001.85+004309.3                                      0.134337   \n",
       "4       J000002.29-042805.0                                      0.908152   \n",
       "...                     ...                                           ...   \n",
       "253281  J235953.19+001811.8                                      0.385464   \n",
       "253282  J235953.74+003322.2                                      0.921103   \n",
       "253283  J235956.86-011324.2                                      0.300846   \n",
       "253284  J235959.40+083353.0                                      0.481616   \n",
       "253285  J235959.50+003645.4                                      0.097810   \n",
       "\n",
       "        disk-edge-on_no_fraction  rare-features_ring  \\\n",
       "0                       0.910869                   1   \n",
       "1                       0.911055                   1   \n",
       "2                       0.536398                   0   \n",
       "3                       0.664886                   0   \n",
       "4                       0.977085                   0   \n",
       "...                          ...                 ...   \n",
       "253281                  0.972178                   0   \n",
       "253282                  0.970179                   2   \n",
       "253283                  0.802763                   1   \n",
       "253284                  0.974226                   0   \n",
       "253285                  0.950038                   0   \n",
       "\n",
       "        rare-features_ring_fraction  rare-features_total  \\\n",
       "0                          0.125000                    8   \n",
       "1                          0.111111                    9   \n",
       "2                          0.000000                    5   \n",
       "3                          0.000000                    4   \n",
       "4                          0.000000                    4   \n",
       "...                             ...                  ...   \n",
       "253281                     0.000000                    6   \n",
       "253282                     0.333333                    6   \n",
       "253283                     0.500000                    2   \n",
       "253284                     0.000000                    2   \n",
       "253285                     0.000000                    5   \n",
       "\n",
       "                       local_png_loc  \n",
       "0       J000/J000000.80+004200.0.png  \n",
       "1       J000/J000001.03+003228.7.png  \n",
       "2       J000/J000001.55-000533.3.png  \n",
       "3       J000/J000001.85+004309.3.png  \n",
       "4       J000/J000002.29-042805.0.png  \n",
       "...                              ...  \n",
       "253281  J235/J235953.19+001811.8.png  \n",
       "253282  J235/J235953.74+003322.2.png  \n",
       "253283  J235/J235956.86-011324.2.png  \n",
       "253284  J235/J235959.40+083353.0.png  \n",
       "253285  J235/J235959.50+003645.4.png  \n",
       "\n",
       "[253286 rows x 7 columns]"
      ]
     },
     "execution_count": 3,
     "metadata": {},
     "output_type": "execute_result"
    }
   ],
   "source": [
    "df"
   ]
  },
  {
   "cell_type": "code",
   "execution_count": 4,
   "id": "a53421b4-39fe-4e9f-b5b8-2e66b6dd7fd1",
   "metadata": {},
   "outputs": [],
   "source": [
    "df['file_loc'] = df['local_png_loc'].str.replace('.png', '.jpg', regex=False)\n",
    "del df['local_png_loc']"
   ]
  },
  {
   "cell_type": "code",
   "execution_count": 5,
   "id": "819a7289",
   "metadata": {},
   "outputs": [],
   "source": [
    "# apply selection cuts. must exactly match get_random_ring_catalogs in rings.py\n",
    "\n",
    "df = rings.apply_selection_cuts(df)\n",
    "\n",
    "df['label'] = rings.get_rough_class_from_ring_fraction(df['rare-features_ring_fraction'])"
   ]
  },
  {
   "cell_type": "code",
   "execution_count": 6,
   "id": "8835ffcb",
   "metadata": {},
   "outputs": [
    {
     "data": {
      "text/plain": [
       "0    50855\n",
       "1     9947\n",
       "Name: label, dtype: int64"
      ]
     },
     "execution_count": 6,
     "metadata": {},
     "output_type": "execute_result"
    }
   ],
   "source": [
    "\n",
    "\n",
    "df = df.query('label >= 0').reset_index(drop=True)\n",
    "df['label'].value_counts()  \n",
    "# these 60k are the images relevant to finetuning"
   ]
  },
  {
   "cell_type": "code",
   "execution_count": 7,
   "id": "a7fb6175-5052-4403-a168-cec93664a9b3",
   "metadata": {},
   "outputs": [],
   "source": [
    "images_to_copy = df['file_loc']\n",
    "\n",
    "# [:100]\n",
    "\n",
    "with open('images_to_copy_decals.txt', 'w') as f:\n",
    "    f.writelines([x + '\\n' for x in images_to_copy])"
   ]
  },
  {
   "cell_type": "code",
   "execution_count": null,
   "id": "0ad073e9",
   "metadata": {},
   "outputs": [],
   "source": [
    "rsync -e 'ssh -A -J walml@external.jb.man.ac.uk' /Users/walml/repos/zoobot/zoobot/tensorflow/datasets/images_to_copy_decals.txt walml@lofar9:/nvme1/scratch/walml\n",
    "\n",
    "rsync -e 'ssh -A -J walml@external.jb.man.ac.uk' /Users/walml/repos/zoobot/zoobot/tensorflow/datasets/images_to_copy_decals.txt walml@galahad.ast.man.ac.uk:/share/nas2/walml"
   ]
  },
  {
   "cell_type": "markdown",
   "id": "3a14495f-c02b-4156-a442-f97ce457af70",
   "metadata": {},
   "source": [
    "rsync --files-from=/nvme1/scratch/walml/images_to_copy_decals.txt repos/pytorch-galaxy-datasets/roots/decals_dr5/images temp_decals_rings\n",
    "\n",
    "rsync --files-from=images_to_copy_decals.txt galaxy_zoo/decals/dr5/jpg temp_decals_rings"
   ]
  },
  {
   "cell_type": "markdown",
   "id": "702e4777",
   "metadata": {},
   "source": [
    "mv temp_decals_rings advanced\n",
    "\n",
    "tar -zcvf decals_rings.tar.gz advanced"
   ]
  },
  {
   "cell_type": "code",
   "execution_count": null,
   "id": "f50af553",
   "metadata": {},
   "outputs": [],
   "source": [
    "\n",
    "rsync -e 'ssh -A -J walml@external.jb.man.ac.uk' walml@galahad.ast.man.ac.uk:/share/nas2/walml/decals_rings.tar.gz /Users/walml/repos/zoobot/data"
   ]
  }
 ],
 "metadata": {
  "kernelspec": {
   "display_name": "Python 3.8.10 ('zoobot')",
   "language": "python",
   "name": "python3"
  },
  "language_info": {
   "codemirror_mode": {
    "name": "ipython",
    "version": 3
   },
   "file_extension": ".py",
   "mimetype": "text/x-python",
   "name": "python",
   "nbconvert_exporter": "python",
   "pygments_lexer": "ipython3",
   "version": "3.8.10"
  },
  "vscode": {
   "interpreter": {
    "hash": "f17685d2e70c07ccb24ff33fa38795c5cafdc43f943119294282af8db3ae350a"
   }
  }
 },
 "nbformat": 4,
 "nbformat_minor": 5
}
