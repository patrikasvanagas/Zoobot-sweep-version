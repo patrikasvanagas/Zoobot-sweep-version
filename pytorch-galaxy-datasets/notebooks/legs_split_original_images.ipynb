{
 "cells": [
  {
   "cell_type": "code",
   "execution_count": 2,
   "metadata": {},
   "outputs": [],
   "source": [
    "import os\n",
    "\n",
    "import pandas as pd\n",
    "\n",
    "from sklearn.model_selection import train_test_split\n"
   ]
  },
  {
   "cell_type": "code",
   "execution_count": 3,
   "metadata": {},
   "outputs": [],
   "source": [
    "dr12 = pd.read_parquet('/home/walml/repos/gz-decals-classifiers/data/catalogs/training_catalogs/dr12_ortho_v2_labelled_catalog.parquet')\n",
    "dr5 = pd.read_parquet('/home/walml/repos/gz-decals-classifiers/data/catalogs/training_catalogs/dr5_ortho_v2_labelled_catalog.parquet')\n",
    "dr8 = pd.read_parquet('/home/walml/repos/gz-decals-classifiers/data/catalogs/training_catalogs/dr8_ortho_v2_labelled_catalog.parquet')"
   ]
  },
  {
   "cell_type": "code",
   "execution_count": 4,
   "metadata": {},
   "outputs": [
    {
     "data": {
      "text/plain": [
       "'/share/nas/walml/galaxy_zoo/decals/dr1_dr2/png/decals-dr2/standard/J121450.72+024931.2.jpeg'"
      ]
     },
     "execution_count": 4,
     "metadata": {},
     "output_type": "execute_result"
    }
   ],
   "source": [
    "dr12['file_loc'][0]  # some will include dr1"
   ]
  },
  {
   "cell_type": "code",
   "execution_count": 5,
   "metadata": {},
   "outputs": [
    {
     "data": {
      "text/plain": [
       "'/share/nas/walml/galaxy_zoo/decals/dr5/png/dr5/J100/J100620.35+101629.1.png'"
      ]
     },
     "execution_count": 5,
     "metadata": {},
     "output_type": "execute_result"
    }
   ],
   "source": [
    "dr5['file_loc'][0]"
   ]
  },
  {
   "cell_type": "code",
   "execution_count": 6,
   "metadata": {},
   "outputs": [
    {
     "data": {
      "text/plain": [
       "'/share/nas/walml/galaxy_zoo/decals/dr8/png/177936/177936_3415.png'"
      ]
     },
     "execution_count": 6,
     "metadata": {},
     "output_type": "execute_result"
    }
   ],
   "source": [
    "dr8['file_loc'][0]"
   ]
  },
  {
   "cell_type": "code",
   "execution_count": null,
   "metadata": {},
   "outputs": [],
   "source": []
  },
  {
   "cell_type": "code",
   "execution_count": 7,
   "metadata": {},
   "outputs": [],
   "source": [
    "# some standard cleaning of file locs\n",
    "for catalog in [dr12, dr5, dr8]:\n",
    "    # tweak file paths\n",
    "    catalog['file_loc'] = catalog['file_loc'].str.replace(\n",
    "        '/raid/scratch',  '/share/nas2', regex=False)\n",
    "    catalog['file_loc'] = catalog['file_loc'].str.replace(\n",
    "        '/share/nas/',  '/share/nas2/', regex=False)\n",
    "    catalog['file_loc'] = catalog['file_loc'].str.replace(\n",
    "        '/dr8_downloader/',  '/dr8/', regex=False)\n",
    "    catalog['file_loc'] = catalog['file_loc'].str.replace(\n",
    "        '/png/', '/jpeg/', regex=False)\n",
    "    catalog['file_loc'] = catalog['file_loc'].str.replace(\n",
    "        '.png', '.jpeg', regex=False)\n",
    "\n",
    "# TODO these files are still jpeg not jpg, which I should change but it's not crucial"
   ]
  },
  {
   "cell_type": "code",
   "execution_count": 8,
   "metadata": {},
   "outputs": [
    {
     "data": {
      "text/plain": [
       "'/share/nas2/walml/galaxy_zoo/decals/dr1_dr2/jpeg/decals-dr2/standard/J121450.72+024931.2.jpeg'"
      ]
     },
     "execution_count": 8,
     "metadata": {},
     "output_type": "execute_result"
    }
   ],
   "source": [
    "dr12['file_loc'][0]  # some will include dr1"
   ]
  },
  {
   "cell_type": "code",
   "execution_count": 9,
   "metadata": {},
   "outputs": [
    {
     "data": {
      "text/plain": [
       "'/share/nas2/walml/galaxy_zoo/decals/dr5/jpeg/dr5/J100/J100620.35+101629.1.jpeg'"
      ]
     },
     "execution_count": 9,
     "metadata": {},
     "output_type": "execute_result"
    }
   ],
   "source": [
    "dr5['file_loc'][0]"
   ]
  },
  {
   "cell_type": "code",
   "execution_count": 10,
   "metadata": {},
   "outputs": [
    {
     "data": {
      "text/plain": [
       "'/share/nas2/walml/galaxy_zoo/decals/dr8/jpeg/177936/177936_3415.jpeg'"
      ]
     },
     "execution_count": 10,
     "metadata": {},
     "output_type": "execute_result"
    }
   ],
   "source": [
    "dr8['file_loc'][0]"
   ]
  },
  {
   "cell_type": "code",
   "execution_count": 11,
   "metadata": {},
   "outputs": [
    {
     "data": {
      "text/plain": [
       "374418"
      ]
     },
     "execution_count": 11,
     "metadata": {},
     "output_type": "execute_result"
    }
   ],
   "source": [
    "labelled = pd.concat([dr12, dr5, dr8], axis=0)\n",
    "len(labelled)"
   ]
  },
  {
   "cell_type": "code",
   "execution_count": null,
   "metadata": {},
   "outputs": [],
   "source": [
    "train_catalog, test_catalog = train_test_split(labelled, test_size=0.2, random_state=42)"
   ]
  },
  {
   "cell_type": "code",
   "execution_count": null,
   "metadata": {},
   "outputs": [],
   "source": [
    "train_catalog.to_parquet('/home/walml/repos/pytorch-galaxy-datasets/legs/legs_all_campaigns_ortho_train_catalog.parquet', index=False)\n",
    "test_catalog.to_parquet('/home/walml/repos/pytorch-galaxy-datasets/legs/legs_all_campaigns_ortho_test_catalog.parquet', index=False)"
   ]
  },
  {
   "cell_type": "code",
   "execution_count": 12,
   "metadata": {},
   "outputs": [],
   "source": [
    "# TODO can create \"all\" dataset with nan/None labels for unlabelled? can create unlabelled dataset excluding these?"
   ]
  }
 ],
 "metadata": {
  "interpreter": {
   "hash": "5ec7511d1fc7a72aba078c8815c4bcacd5404aac7a6282065ad4abec249876bb"
  },
  "kernelspec": {
   "display_name": "Python 3.7.11 ('zoobot')",
   "language": "python",
   "name": "python3"
  },
  "language_info": {
   "codemirror_mode": {
    "name": "ipython",
    "version": 3
   },
   "file_extension": ".py",
   "mimetype": "text/x-python",
   "name": "python",
   "nbconvert_exporter": "python",
   "pygments_lexer": "ipython3",
   "version": "3.7.11"
  },
  "orig_nbformat": 4
 },
 "nbformat": 4,
 "nbformat_minor": 2
}
