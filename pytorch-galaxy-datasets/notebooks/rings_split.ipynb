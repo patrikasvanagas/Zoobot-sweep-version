{
 "cells": [
  {
   "cell_type": "code",
   "execution_count": 79,
   "metadata": {},
   "outputs": [],
   "source": [
    "import os\n",
    "\n",
    "import pandas as pd\n",
    "import numpy as np\n",
    "\n",
    "from sklearn.model_selection import train_test_split\n"
   ]
  },
  {
   "cell_type": "code",
   "execution_count": 80,
   "metadata": {},
   "outputs": [],
   "source": [
    "useful_cols = ['id_str', 'brickid', 'objid', 'file_loc', 'swiped-ring_fraction', 'ring_votes', 'not_ring_votes', 'total_votes']\n",
    "df = pd.read_parquet(\n",
    "    '/home/walml/repos/decals-rings/data/latest_volunteer_ring_catalog_dr8_only.parquet',\n",
    "    columns=useful_cols\n",
    ")\n",
    "\n",
    "df = df.rename(columns={'swiped-ring_fraction': 'ring_fraction'})"
   ]
  },
  {
   "cell_type": "code",
   "execution_count": null,
   "metadata": {},
   "outputs": [],
   "source": [
    "# should all match the dr8 legs master catalog - let's check quickly"
   ]
  },
  {
   "cell_type": "code",
   "execution_count": 81,
   "metadata": {},
   "outputs": [],
   "source": [
    "df = df.rename(columns={'ring_votes': 'ring_yes', 'not_ring_votes': 'ring_no'})"
   ]
  },
  {
   "cell_type": "code",
   "execution_count": 82,
   "metadata": {},
   "outputs": [
    {
     "data": {
      "text/plain": [
       "0        /share/nas2/walml/galaxy_zoo/decals/dr8/jpg/10...\n",
       "1        /share/nas2/walml/galaxy_zoo/decals/dr8/jpg/10...\n",
       "2        /share/nas2/walml/galaxy_zoo/decals/dr8/jpg/10...\n",
       "3        /share/nas2/walml/galaxy_zoo/decals/dr8/jpg/10...\n",
       "4        /share/nas2/walml/galaxy_zoo/decals/dr8/jpg/10...\n",
       "                               ...                        \n",
       "91691    /share/nas2/walml/galaxy_zoo/decals/dr8/jpg/99...\n",
       "91692    /share/nas2/walml/galaxy_zoo/decals/dr8/jpg/99...\n",
       "91693    /share/nas2/walml/galaxy_zoo/decals/dr8/jpg/99...\n",
       "91694    /share/nas2/walml/galaxy_zoo/decals/dr8/jpg/99...\n",
       "91695    /share/nas2/walml/galaxy_zoo/decals/dr8/jpg/99...\n",
       "Name: file_loc, Length: 91696, dtype: object"
      ]
     },
     "execution_count": 82,
     "metadata": {},
     "output_type": "execute_result"
    }
   ],
   "source": [
    "df['file_loc']"
   ]
  },
  {
   "cell_type": "code",
   "execution_count": 83,
   "metadata": {},
   "outputs": [],
   "source": [
    "df['subfolder'] = df['brickid']\n",
    "df['filename'] = df['file_loc'].apply(os.path.basename)"
   ]
  },
  {
   "cell_type": "code",
   "execution_count": null,
   "metadata": {},
   "outputs": [],
   "source": []
  },
  {
   "cell_type": "code",
   "execution_count": 84,
   "metadata": {},
   "outputs": [],
   "source": [
    "# df['subfolder'] = df['local_png_loc'].apply(lambda x: os.path.basename(os.path.split(x)[0]))  # only one level subfolder\n",
    "# df['subfolder']"
   ]
  },
  {
   "cell_type": "code",
   "execution_count": 85,
   "metadata": {},
   "outputs": [],
   "source": [
    "# # dr5\n",
    "# dr5_files = df[df['local_png_loc'].apply(lambda x: 'dr5' in x)]['local_png_loc'].apply(lambda x: x.replace('/Volumes/beta/decals/png_native/dr5/', '').replace('.png', '.jpeg'))\n",
    "# dr5_files"
   ]
  },
  {
   "cell_type": "code",
   "execution_count": 86,
   "metadata": {},
   "outputs": [],
   "source": [
    "# temp = [os.path.join('/nvme1/scratch/walml/repos/pytorch-galaxy-datasets/roots/decals_dr5/images', x) for x in dr5_files]\n",
    "# np.mean([os.path.isfile(x) for x in temp])"
   ]
  },
  {
   "cell_type": "code",
   "execution_count": 87,
   "metadata": {},
   "outputs": [],
   "source": [
    "# dr5_files_path = '/nvme1/scratch/walml/repos/pytorch-galaxy-datasets/notebooks/temp_rings_dr5_files.csv'\n",
    "# with open(dr5_files_path, 'w') as f:\n",
    "#     f.write('\\n'.join(dr5_files))"
   ]
  },
  {
   "cell_type": "code",
   "execution_count": null,
   "metadata": {},
   "outputs": [],
   "source": []
  },
  {
   "cell_type": "code",
   "execution_count": 88,
   "metadata": {},
   "outputs": [
    {
     "data": {
      "text/plain": [
       "'/share/nas2/walml/galaxy_zoo/decals/dr8/jpg/100002/100002_3270.jpg'"
      ]
     },
     "execution_count": 88,
     "metadata": {},
     "output_type": "execute_result"
    }
   ],
   "source": [
    "df['file_loc'].iloc[0]"
   ]
  },
  {
   "cell_type": "code",
   "execution_count": 89,
   "metadata": {},
   "outputs": [],
   "source": [
    "dr8_files_path = '/nvme1/scratch/walml/repos/pytorch-galaxy-datasets/notebooks/temp_rings_dr8_files.csv'\n",
    "with open(dr8_files_path, 'w') as f:\n",
    "    f.write('\\n'.join(df['file_loc'].str.replace('/share/nas2/walml/galaxy_zoo/decals/dr8/jpg/', '')))"
   ]
  },
  {
   "cell_type": "code",
   "execution_count": 90,
   "metadata": {},
   "outputs": [
    {
     "data": {
      "text/plain": [
       "91696"
      ]
     },
     "execution_count": 90,
     "metadata": {},
     "output_type": "execute_result"
    }
   ],
   "source": [
    "len(df)"
   ]
  },
  {
   "cell_type": "code",
   "execution_count": 91,
   "metadata": {},
   "outputs": [],
   "source": [
    "# !echo rsync --dry-run --files-from {dr5_files_path} /nvme1/scratch/walml/repos/pytorch-galaxy-datasets/roots/decals_dr5/images /nvme1/scratch/walml/repos/pytorch-galaxy-datasets/roots/legs/images"
   ]
  },
  {
   "cell_type": "code",
   "execution_count": 92,
   "metadata": {},
   "outputs": [
    {
     "name": "stdout",
     "output_type": "stream",
     "text": [
      "rsync --dry-run -v --files-from /nvme1/scratch/walml/repos/pytorch-galaxy-datasets/notebooks/temp_rings_dr8_files.csv walml@galahad.ast.man.ac.uk:/share/nas2/walml/galaxy_zoo/decals/dr8/jpg /nvme1/scratch/walml/repos/pytorch-galaxy-datasets/roots/rings_root/images\n"
     ]
    }
   ],
   "source": [
    "!echo rsync --dry-run -v --files-from {dr8_files_path}  walml@galahad.ast.man.ac.uk:/share/nas2/walml/galaxy_zoo/decals/dr8/jpg /nvme1/scratch/walml/repos/pytorch-galaxy-datasets/roots/rings_root/images"
   ]
  },
  {
   "cell_type": "code",
   "execution_count": 93,
   "metadata": {},
   "outputs": [],
   "source": [
    "# dr1_dr2 need to be separately copied"
   ]
  },
  {
   "cell_type": "code",
   "execution_count": 94,
   "metadata": {},
   "outputs": [],
   "source": [
    "# # all the dr5 images are already .jpg and already moved to roots/decals_dr5\n",
    "# dr1_files = df[df['local_png_loc'].apply(lambda x: 'dr1/standard' in x)]['local_png_loc'].apply(lambda x: x.replace('/Volumes/beta/galaxy_zoo/decals/dr1_dr2/png/dr1/standard/', '').replace('.png', '.jpeg'))\n",
    "# dr1_files"
   ]
  },
  {
   "cell_type": "code",
   "execution_count": 95,
   "metadata": {},
   "outputs": [],
   "source": [
    "# # all the dr5 images are already .jpg and already moved to roots/decals_dr5\n",
    "# dr2_files = df[df['local_png_loc'].apply(lambda x: 'dr2/standard' in x)]['local_png_loc'].apply(lambda x: x.replace('/Volumes/beta/galaxy_zoo/decals/dr1_dr2/png/dr2/standard/', '').replace('.png', '.jpeg'))\n",
    "# dr2_files"
   ]
  },
  {
   "cell_type": "code",
   "execution_count": 96,
   "metadata": {},
   "outputs": [],
   "source": [
    "# len(dr1_files) + len(dr2_files) + len(dr5_files), len(df)"
   ]
  },
  {
   "cell_type": "code",
   "execution_count": 97,
   "metadata": {},
   "outputs": [],
   "source": [
    "# there are so few I'm just going to stick with the dr5 images for simplicity"
   ]
  },
  {
   "cell_type": "code",
   "execution_count": 98,
   "metadata": {},
   "outputs": [],
   "source": [
    "# df = df[df['local_png_loc'].apply(lambda x: 'dr5' in x)].reset_index()\n",
    "# len(df)"
   ]
  },
  {
   "cell_type": "code",
   "execution_count": 99,
   "metadata": {},
   "outputs": [],
   "source": [
    "# df['filename'] = df['local_png_loc'].apply(lambda x: os.path.basename(x).replace('.png', '.jpg'))\n",
    "# df['filename'] "
   ]
  },
  {
   "cell_type": "code",
   "execution_count": 100,
   "metadata": {},
   "outputs": [],
   "source": [
    "# df['subfolder'] = df['filename'].apply(lambda x: x[:4])\n",
    "# df['subfolder']"
   ]
  },
  {
   "cell_type": "code",
   "execution_count": 101,
   "metadata": {},
   "outputs": [
    {
     "data": {
      "text/html": [
       "<div>\n",
       "<style scoped>\n",
       "    .dataframe tbody tr th:only-of-type {\n",
       "        vertical-align: middle;\n",
       "    }\n",
       "\n",
       "    .dataframe tbody tr th {\n",
       "        vertical-align: top;\n",
       "    }\n",
       "\n",
       "    .dataframe thead th {\n",
       "        text-align: right;\n",
       "    }\n",
       "</style>\n",
       "<table border=\"1\" class=\"dataframe\">\n",
       "  <thead>\n",
       "    <tr style=\"text-align: right;\">\n",
       "      <th></th>\n",
       "      <th>id_str</th>\n",
       "      <th>brickid</th>\n",
       "      <th>objid</th>\n",
       "      <th>file_loc</th>\n",
       "      <th>ring_fraction</th>\n",
       "      <th>ring_yes</th>\n",
       "      <th>ring_no</th>\n",
       "      <th>total_votes</th>\n",
       "      <th>subfolder</th>\n",
       "      <th>filename</th>\n",
       "    </tr>\n",
       "  </thead>\n",
       "  <tbody>\n",
       "    <tr>\n",
       "      <th>0</th>\n",
       "      <td>100002_3270</td>\n",
       "      <td>100002</td>\n",
       "      <td>3270</td>\n",
       "      <td>/share/nas2/walml/galaxy_zoo/decals/dr8/jpg/10...</td>\n",
       "      <td>0.600000</td>\n",
       "      <td>6.0</td>\n",
       "      <td>4.0</td>\n",
       "      <td>10</td>\n",
       "      <td>100002</td>\n",
       "      <td>100002_3270.jpg</td>\n",
       "    </tr>\n",
       "    <tr>\n",
       "      <th>1</th>\n",
       "      <td>100004_1032</td>\n",
       "      <td>100004</td>\n",
       "      <td>1032</td>\n",
       "      <td>/share/nas2/walml/galaxy_zoo/decals/dr8/jpg/10...</td>\n",
       "      <td>0.769231</td>\n",
       "      <td>10.0</td>\n",
       "      <td>3.0</td>\n",
       "      <td>13</td>\n",
       "      <td>100004</td>\n",
       "      <td>100004_1032.jpg</td>\n",
       "    </tr>\n",
       "    <tr>\n",
       "      <th>2</th>\n",
       "      <td>100006_1144</td>\n",
       "      <td>100006</td>\n",
       "      <td>1144</td>\n",
       "      <td>/share/nas2/walml/galaxy_zoo/decals/dr8/jpg/10...</td>\n",
       "      <td>0.800000</td>\n",
       "      <td>12.0</td>\n",
       "      <td>3.0</td>\n",
       "      <td>15</td>\n",
       "      <td>100006</td>\n",
       "      <td>100006_1144.jpg</td>\n",
       "    </tr>\n",
       "    <tr>\n",
       "      <th>3</th>\n",
       "      <td>100007_3441</td>\n",
       "      <td>100007</td>\n",
       "      <td>3441</td>\n",
       "      <td>/share/nas2/walml/galaxy_zoo/decals/dr8/jpg/10...</td>\n",
       "      <td>0.363636</td>\n",
       "      <td>4.0</td>\n",
       "      <td>7.0</td>\n",
       "      <td>11</td>\n",
       "      <td>100007</td>\n",
       "      <td>100007_3441.jpg</td>\n",
       "    </tr>\n",
       "    <tr>\n",
       "      <th>4</th>\n",
       "      <td>100011_406</td>\n",
       "      <td>100011</td>\n",
       "      <td>406</td>\n",
       "      <td>/share/nas2/walml/galaxy_zoo/decals/dr8/jpg/10...</td>\n",
       "      <td>0.818182</td>\n",
       "      <td>9.0</td>\n",
       "      <td>2.0</td>\n",
       "      <td>11</td>\n",
       "      <td>100011</td>\n",
       "      <td>100011_406.jpg</td>\n",
       "    </tr>\n",
       "    <tr>\n",
       "      <th>...</th>\n",
       "      <td>...</td>\n",
       "      <td>...</td>\n",
       "      <td>...</td>\n",
       "      <td>...</td>\n",
       "      <td>...</td>\n",
       "      <td>...</td>\n",
       "      <td>...</td>\n",
       "      <td>...</td>\n",
       "      <td>...</td>\n",
       "      <td>...</td>\n",
       "    </tr>\n",
       "    <tr>\n",
       "      <th>91691</th>\n",
       "      <td>99966_2205</td>\n",
       "      <td>99966</td>\n",
       "      <td>2205</td>\n",
       "      <td>/share/nas2/walml/galaxy_zoo/decals/dr8/jpg/99...</td>\n",
       "      <td>0.727273</td>\n",
       "      <td>8.0</td>\n",
       "      <td>3.0</td>\n",
       "      <td>11</td>\n",
       "      <td>99966</td>\n",
       "      <td>99966_2205.jpg</td>\n",
       "    </tr>\n",
       "    <tr>\n",
       "      <th>91692</th>\n",
       "      <td>99967_270</td>\n",
       "      <td>99967</td>\n",
       "      <td>270</td>\n",
       "      <td>/share/nas2/walml/galaxy_zoo/decals/dr8/jpg/99...</td>\n",
       "      <td>0.363636</td>\n",
       "      <td>4.0</td>\n",
       "      <td>7.0</td>\n",
       "      <td>11</td>\n",
       "      <td>99967</td>\n",
       "      <td>99967_270.jpg</td>\n",
       "    </tr>\n",
       "    <tr>\n",
       "      <th>91693</th>\n",
       "      <td>99972_643</td>\n",
       "      <td>99972</td>\n",
       "      <td>643</td>\n",
       "      <td>/share/nas2/walml/galaxy_zoo/decals/dr8/jpg/99...</td>\n",
       "      <td>0.769231</td>\n",
       "      <td>10.0</td>\n",
       "      <td>3.0</td>\n",
       "      <td>13</td>\n",
       "      <td>99972</td>\n",
       "      <td>99972_643.jpg</td>\n",
       "    </tr>\n",
       "    <tr>\n",
       "      <th>91694</th>\n",
       "      <td>99974_1419</td>\n",
       "      <td>99974</td>\n",
       "      <td>1419</td>\n",
       "      <td>/share/nas2/walml/galaxy_zoo/decals/dr8/jpg/99...</td>\n",
       "      <td>0.454545</td>\n",
       "      <td>5.0</td>\n",
       "      <td>6.0</td>\n",
       "      <td>11</td>\n",
       "      <td>99974</td>\n",
       "      <td>99974_1419.jpg</td>\n",
       "    </tr>\n",
       "    <tr>\n",
       "      <th>91695</th>\n",
       "      <td>99996_3209</td>\n",
       "      <td>99996</td>\n",
       "      <td>3209</td>\n",
       "      <td>/share/nas2/walml/galaxy_zoo/decals/dr8/jpg/99...</td>\n",
       "      <td>0.857143</td>\n",
       "      <td>12.0</td>\n",
       "      <td>2.0</td>\n",
       "      <td>14</td>\n",
       "      <td>99996</td>\n",
       "      <td>99996_3209.jpg</td>\n",
       "    </tr>\n",
       "  </tbody>\n",
       "</table>\n",
       "<p>91696 rows × 10 columns</p>\n",
       "</div>"
      ],
      "text/plain": [
       "            id_str brickid objid  \\\n",
       "0      100002_3270  100002  3270   \n",
       "1      100004_1032  100004  1032   \n",
       "2      100006_1144  100006  1144   \n",
       "3      100007_3441  100007  3441   \n",
       "4       100011_406  100011   406   \n",
       "...            ...     ...   ...   \n",
       "91691   99966_2205   99966  2205   \n",
       "91692    99967_270   99967   270   \n",
       "91693    99972_643   99972   643   \n",
       "91694   99974_1419   99974  1419   \n",
       "91695   99996_3209   99996  3209   \n",
       "\n",
       "                                                file_loc  ring_fraction  \\\n",
       "0      /share/nas2/walml/galaxy_zoo/decals/dr8/jpg/10...       0.600000   \n",
       "1      /share/nas2/walml/galaxy_zoo/decals/dr8/jpg/10...       0.769231   \n",
       "2      /share/nas2/walml/galaxy_zoo/decals/dr8/jpg/10...       0.800000   \n",
       "3      /share/nas2/walml/galaxy_zoo/decals/dr8/jpg/10...       0.363636   \n",
       "4      /share/nas2/walml/galaxy_zoo/decals/dr8/jpg/10...       0.818182   \n",
       "...                                                  ...            ...   \n",
       "91691  /share/nas2/walml/galaxy_zoo/decals/dr8/jpg/99...       0.727273   \n",
       "91692  /share/nas2/walml/galaxy_zoo/decals/dr8/jpg/99...       0.363636   \n",
       "91693  /share/nas2/walml/galaxy_zoo/decals/dr8/jpg/99...       0.769231   \n",
       "91694  /share/nas2/walml/galaxy_zoo/decals/dr8/jpg/99...       0.454545   \n",
       "91695  /share/nas2/walml/galaxy_zoo/decals/dr8/jpg/99...       0.857143   \n",
       "\n",
       "       ring_yes  ring_no  total_votes subfolder         filename  \n",
       "0           6.0      4.0           10    100002  100002_3270.jpg  \n",
       "1          10.0      3.0           13    100004  100004_1032.jpg  \n",
       "2          12.0      3.0           15    100006  100006_1144.jpg  \n",
       "3           4.0      7.0           11    100007  100007_3441.jpg  \n",
       "4           9.0      2.0           11    100011   100011_406.jpg  \n",
       "...         ...      ...          ...       ...              ...  \n",
       "91691       8.0      3.0           11     99966   99966_2205.jpg  \n",
       "91692       4.0      7.0           11     99967    99967_270.jpg  \n",
       "91693      10.0      3.0           13     99972    99972_643.jpg  \n",
       "91694       5.0      6.0           11     99974   99974_1419.jpg  \n",
       "91695      12.0      2.0           14     99996   99996_3209.jpg  \n",
       "\n",
       "[91696 rows x 10 columns]"
      ]
     },
     "execution_count": 101,
     "metadata": {},
     "output_type": "execute_result"
    }
   ],
   "source": [
    "# del df['index']\n",
    "# del df['local_png_loc']\n",
    "df"
   ]
  },
  {
   "cell_type": "code",
   "execution_count": 102,
   "metadata": {},
   "outputs": [
    {
     "data": {
      "text/html": [
       "<div>\n",
       "<style scoped>\n",
       "    .dataframe tbody tr th:only-of-type {\n",
       "        vertical-align: middle;\n",
       "    }\n",
       "\n",
       "    .dataframe tbody tr th {\n",
       "        vertical-align: top;\n",
       "    }\n",
       "\n",
       "    .dataframe thead th {\n",
       "        text-align: right;\n",
       "    }\n",
       "</style>\n",
       "<table border=\"1\" class=\"dataframe\">\n",
       "  <thead>\n",
       "    <tr style=\"text-align: right;\">\n",
       "      <th></th>\n",
       "      <th>id_str</th>\n",
       "      <th>brickid</th>\n",
       "      <th>objid</th>\n",
       "      <th>file_loc</th>\n",
       "      <th>ring_fraction</th>\n",
       "      <th>ring_yes</th>\n",
       "      <th>ring_no</th>\n",
       "      <th>total_votes</th>\n",
       "      <th>subfolder</th>\n",
       "      <th>filename</th>\n",
       "    </tr>\n",
       "  </thead>\n",
       "  <tbody>\n",
       "    <tr>\n",
       "      <th>11444</th>\n",
       "      <td>296755_1404</td>\n",
       "      <td>296755</td>\n",
       "      <td>1404</td>\n",
       "      <td>/share/nas2/walml/galaxy_zoo/decals/dr8/jpg/29...</td>\n",
       "      <td>0.7</td>\n",
       "      <td>7.0</td>\n",
       "      <td>3.0</td>\n",
       "      <td>10</td>\n",
       "      <td>296755</td>\n",
       "      <td>296755_1404.jpg</td>\n",
       "    </tr>\n",
       "  </tbody>\n",
       "</table>\n",
       "</div>"
      ],
      "text/plain": [
       "            id_str brickid objid  \\\n",
       "11444  296755_1404  296755  1404   \n",
       "\n",
       "                                                file_loc  ring_fraction  \\\n",
       "11444  /share/nas2/walml/galaxy_zoo/decals/dr8/jpg/29...            0.7   \n",
       "\n",
       "       ring_yes  ring_no  total_votes subfolder         filename  \n",
       "11444       7.0      3.0           10    296755  296755_1404.jpg  "
      ]
     },
     "execution_count": 102,
     "metadata": {},
     "output_type": "execute_result"
    }
   ],
   "source": [
    "df.query('brickid == \"296755\"')"
   ]
  },
  {
   "cell_type": "code",
   "execution_count": 103,
   "metadata": {},
   "outputs": [],
   "source": [
    "del df['file_loc']"
   ]
  },
  {
   "cell_type": "code",
   "execution_count": 104,
   "metadata": {},
   "outputs": [],
   "source": [
    "train_catalog, test_catalog = train_test_split(df, test_size=0.2, random_state=42)\n",
    "\n",
    "# train_catalog.to_parquet('/home/walml/repos/pytorch-galaxy-datasets/roots/rings_root/rings_train_catalog.parquet', index=False)\n",
    "# test_catalog.to_parquet('/home/walml/repos/pytorch-galaxy-datasets/roots/rings_root/rings_test_catalog.parquet', index=False)"
   ]
  },
  {
   "cell_type": "code",
   "execution_count": 108,
   "metadata": {},
   "outputs": [
    {
     "name": "stdout",
     "output_type": "stream",
     "text": [
      "e2fb6b2bca45cd7f1c58f5b4089a5976\n",
      "6e3f362a6e19ecd02675eaa48f6727f0\n",
      "d0950250436a05ce88de747e6af825b6\n"
     ]
    }
   ],
   "source": [
    "import hashlib\n",
    "\n",
    "for loc in [\n",
    "    '/home/walml/repos/pytorch-galaxy-datasets/roots/rings_root/rings_train_catalog.parquet',\n",
    "    '/home/walml/repos/pytorch-galaxy-datasets/roots/rings_root/rings_test_catalog.parquet',\n",
    "    '/home/walml/repos/pytorch-galaxy-datasets/roots/rings_root/rings_images.tar.gz'  # compressed from images above, takes 5 secs\n",
    "]:\n",
    "    # print hash\n",
    "    with open(loc, 'rb') as f:\n",
    "        md5_checksum = hashlib.md5(f.read()).hexdigest()\n",
    "\n",
    "    print(md5_checksum)"
   ]
  },
  {
   "cell_type": "code",
   "execution_count": 106,
   "metadata": {},
   "outputs": [],
   "source": [
    "# and then `rename  J00*/*.jpeg J00*/*.jpg`` for consistency (I should do this galahad-side)"
   ]
  }
 ],
 "metadata": {
  "interpreter": {
   "hash": "5ec7511d1fc7a72aba078c8815c4bcacd5404aac7a6282065ad4abec249876bb"
  },
  "kernelspec": {
   "display_name": "Python 3.7.11 ('zoobot')",
   "language": "python",
   "name": "python3"
  },
  "language_info": {
   "codemirror_mode": {
    "name": "ipython",
    "version": 3
   },
   "file_extension": ".py",
   "mimetype": "text/x-python",
   "name": "python",
   "nbconvert_exporter": "python",
   "pygments_lexer": "ipython3",
   "version": "3.7.11"
  },
  "orig_nbformat": 4
 },
 "nbformat": 4,
 "nbformat_minor": 2
}
