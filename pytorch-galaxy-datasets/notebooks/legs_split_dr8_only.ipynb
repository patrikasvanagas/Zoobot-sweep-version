{
 "cells": [
  {
   "cell_type": "code",
   "execution_count": 1,
   "metadata": {},
   "outputs": [],
   "source": [
    "import os\n",
    "\n",
    "import pandas as pd\n",
    "\n",
    "from sklearn.model_selection import train_test_split\n",
    "\n",
    "from zoobot.shared.label_metadata import decals_all_campaigns_ortho_label_cols\n"
   ]
  },
  {
   "cell_type": "code",
   "execution_count": 2,
   "metadata": {},
   "outputs": [],
   "source": [
    "dr12 = pd.read_parquet('/home/walml/repos/gz-decals-classifiers/data/catalogs/training_catalogs/dr12_ortho_v2_labelled_catalog.parquet')\n",
    "dr5 = pd.read_parquet('/home/walml/repos/gz-decals-classifiers/data/catalogs/training_catalogs/dr5_ortho_v2_labelled_catalog.parquet')\n",
    "dr8 = pd.read_parquet('/home/walml/repos/gz-decals-classifiers/data/catalogs/training_catalogs/dr8_ortho_v2_labelled_catalog.parquet')"
   ]
  },
  {
   "cell_type": "code",
   "execution_count": 3,
   "metadata": {},
   "outputs": [
    {
     "data": {
      "text/html": [
       "<div>\n",
       "<style scoped>\n",
       "    .dataframe tbody tr th:only-of-type {\n",
       "        vertical-align: middle;\n",
       "    }\n",
       "\n",
       "    .dataframe tbody tr th {\n",
       "        vertical-align: top;\n",
       "    }\n",
       "\n",
       "    .dataframe thead th {\n",
       "        text-align: right;\n",
       "    }\n",
       "</style>\n",
       "<table border=\"1\" class=\"dataframe\">\n",
       "  <thead>\n",
       "    <tr style=\"text-align: right;\">\n",
       "      <th></th>\n",
       "      <th>dr8_id</th>\n",
       "      <th>iauname</th>\n",
       "      <th>redshift</th>\n",
       "    </tr>\n",
       "  </thead>\n",
       "  <tbody>\n",
       "    <tr>\n",
       "      <th>5206072</th>\n",
       "      <td>430531_1076</td>\n",
       "      <td>None</td>\n",
       "      <td>0.212848</td>\n",
       "    </tr>\n",
       "    <tr>\n",
       "      <th>4462610</th>\n",
       "      <td>482154_2597</td>\n",
       "      <td>None</td>\n",
       "      <td>0.269002</td>\n",
       "    </tr>\n",
       "    <tr>\n",
       "      <th>8641681</th>\n",
       "      <td>476140_1345</td>\n",
       "      <td>None</td>\n",
       "      <td>0.118060</td>\n",
       "    </tr>\n",
       "    <tr>\n",
       "      <th>7054936</th>\n",
       "      <td>225838_2938</td>\n",
       "      <td>None</td>\n",
       "      <td>0.120925</td>\n",
       "    </tr>\n",
       "    <tr>\n",
       "      <th>8229307</th>\n",
       "      <td>474717_394</td>\n",
       "      <td>J133229.55+253853.4</td>\n",
       "      <td>0.077330</td>\n",
       "    </tr>\n",
       "  </tbody>\n",
       "</table>\n",
       "</div>"
      ],
      "text/plain": [
       "              dr8_id              iauname  redshift\n",
       "5206072  430531_1076                 None  0.212848\n",
       "4462610  482154_2597                 None  0.269002\n",
       "8641681  476140_1345                 None  0.118060\n",
       "7054936  225838_2938                 None  0.120925\n",
       "8229307   474717_394  J133229.55+253853.4  0.077330"
      ]
     },
     "execution_count": 3,
     "metadata": {},
     "output_type": "execute_result"
    }
   ],
   "source": [
    "megacatalog = pd.read_parquet('/home/walml/repos/decals-rings/results/rings_megacatalog.parquet', columns=['dr8_id', 'iauname', 'redshift'])\n",
    "megacatalog.sample(5)"
   ]
  },
  {
   "cell_type": "code",
   "execution_count": 4,
   "metadata": {},
   "outputs": [
    {
     "name": "stdout",
     "output_type": "stream",
     "text": [
      "85730\n",
      "82387\n"
     ]
    }
   ],
   "source": [
    "print(len(dr12))\n",
    "dr12 = pd.merge(dr12, megacatalog, on='iauname', how='inner')\n",
    "print(len(dr12))"
   ]
  },
  {
   "cell_type": "code",
   "execution_count": 5,
   "metadata": {},
   "outputs": [
    {
     "name": "stdout",
     "output_type": "stream",
     "text": [
      "228059\n",
      "222754\n"
     ]
    }
   ],
   "source": [
    "print(len(dr5))\n",
    "dr5 = pd.merge(dr5, megacatalog, on='iauname', how='inner')\n",
    "print(len(dr5))"
   ]
  },
  {
   "cell_type": "code",
   "execution_count": 6,
   "metadata": {},
   "outputs": [],
   "source": [
    "# replace with cross-matched\n",
    "dr12['id_str'] = dr12['dr8_id']\n",
    "dr5['id_str'] = dr5['dr8_id']"
   ]
  },
  {
   "cell_type": "code",
   "execution_count": 7,
   "metadata": {},
   "outputs": [
    {
     "data": {
      "text/plain": [
       "365770"
      ]
     },
     "execution_count": 7,
     "metadata": {},
     "output_type": "execute_result"
    }
   ],
   "source": [
    "labelled = pd.concat([dr12, dr5, dr8], axis=0)\n",
    "len(labelled)"
   ]
  },
  {
   "cell_type": "markdown",
   "metadata": {},
   "source": [
    "Now make the unlabelled catalog from the remainder"
   ]
  },
  {
   "cell_type": "code",
   "execution_count": 8,
   "metadata": {},
   "outputs": [
    {
     "name": "stderr",
     "output_type": "stream",
     "text": [
      "/nvme1/scratch/miniconda3/envs/zoobot/lib/python3.7/site-packages/ipykernel_launcher.py:2: SettingWithCopyWarning: \n",
      "A value is trying to be set on a copy of a slice from a DataFrame.\n",
      "Try using .loc[row_indexer,col_indexer] = value instead\n",
      "\n",
      "See the caveats in the documentation: https://pandas.pydata.org/pandas-docs/stable/user_guide/indexing.html#returning-a-view-versus-a-copy\n",
      "  \n"
     ]
    },
    {
     "data": {
      "text/plain": [
       "8323600"
      ]
     },
     "execution_count": 8,
     "metadata": {},
     "output_type": "execute_result"
    }
   ],
   "source": [
    "unlabelled = megacatalog[~megacatalog['dr8_id'].isin(labelled['dr8_id'])]\n",
    "unlabelled['id_str'] = unlabelled['dr8_id']\n",
    "len(unlabelled)  # mostly high-z, some redshift filtering would be wise"
   ]
  },
  {
   "cell_type": "code",
   "execution_count": 9,
   "metadata": {},
   "outputs": [
    {
     "name": "stderr",
     "output_type": "stream",
     "text": [
      "/nvme1/scratch/miniconda3/envs/zoobot/lib/python3.7/site-packages/ipykernel_launcher.py:2: SettingWithCopyWarning: \n",
      "A value is trying to be set on a copy of a slice from a DataFrame.\n",
      "Try using .loc[row_indexer,col_indexer] = value instead\n",
      "\n",
      "See the caveats in the documentation: https://pandas.pydata.org/pandas-docs/stable/user_guide/indexing.html#returning-a-view-versus-a-copy\n",
      "  \n",
      "/nvme1/scratch/miniconda3/envs/zoobot/lib/python3.7/site-packages/ipykernel_launcher.py:2: PerformanceWarning: DataFrame is highly fragmented.  This is usually the result of calling `frame.insert` many times, which has poor performance.  Consider joining all columns at once using pd.concat(axis=1) instead.  To get a de-fragmented frame, use `newframe = frame.copy()`\n",
      "  \n"
     ]
    }
   ],
   "source": [
    "for col in decals_all_campaigns_ortho_label_cols:\n",
    "    unlabelled[col] = 0\n",
    "unlabelled = unlabelled.copy().sample(len(unlabelled), random_state=42)"
   ]
  },
  {
   "cell_type": "code",
   "execution_count": 10,
   "metadata": {},
   "outputs": [
    {
     "name": "stderr",
     "output_type": "stream",
     "text": [
      "/nvme1/scratch/miniconda3/envs/zoobot/lib/python3.7/site-packages/ipykernel_launcher.py:2: PerformanceWarning: DataFrame is highly fragmented.  This is usually the result of calling `frame.insert` many times, which has poor performance.  Consider joining all columns at once using pd.concat(axis=1) instead.  To get a de-fragmented frame, use `newframe = frame.copy()`\n",
      "  \n",
      "/nvme1/scratch/miniconda3/envs/zoobot/lib/python3.7/site-packages/ipykernel_launcher.py:3: PerformanceWarning: DataFrame is highly fragmented.  This is usually the result of calling `frame.insert` many times, which has poor performance.  Consider joining all columns at once using pd.concat(axis=1) instead.  To get a de-fragmented frame, use `newframe = frame.copy()`\n",
      "  This is separate from the ipykernel package so we can avoid doing imports until\n"
     ]
    },
    {
     "name": "stdout",
     "output_type": "stream",
     "text": [
      "0    /share/nas2/walml/galaxy_zoo/decals/dr8/jpg/34...\n",
      "0    /share/nas2/walml/galaxy_zoo/decals/dr8/jpg/33...\n",
      "0    /share/nas2/walml/galaxy_zoo/decals/dr8/jpg/17...\n",
      "Name: file_loc, dtype: object\n",
      "/share/nas2/walml/galaxy_zoo/decals/dr8/jpg/43543/43543_92.jpg\n"
     ]
    }
   ],
   "source": [
    "for df in [labelled, unlabelled]:  # dr8 already has but it points to the png\n",
    "    df['brickid'] = df['id_str'].apply(lambda x: x.split('_')[0])\n",
    "    df['objid'] = df['id_str'].apply(lambda x: x.split('_')[1])\n",
    "    df['file_loc'] = '/share/nas2/walml/galaxy_zoo/decals/dr8/jpg/' + df['brickid'] + '/' + df['id_str'] + '.jpg'\n",
    "    print(df['file_loc'][0])"
   ]
  },
  {
   "cell_type": "code",
   "execution_count": 11,
   "metadata": {},
   "outputs": [
    {
     "data": {
      "text/plain": [
       "array(['dr8_id', 'iauname', 'redshift', 'id_str',\n",
       "       'smooth-or-featured-dr12_smooth',\n",
       "       'smooth-or-featured-dr12_featured-or-disk',\n",
       "       'smooth-or-featured-dr12_artifact', 'disk-edge-on-dr12_yes',\n",
       "       'disk-edge-on-dr12_no', 'has-spiral-arms-dr12_yes',\n",
       "       'has-spiral-arms-dr12_no', 'bar-dr12_yes', 'bar-dr12_no',\n",
       "       'bulge-size-dr12_dominant', 'bulge-size-dr12_obvious',\n",
       "       'bulge-size-dr12_none', 'how-rounded-dr12_completely',\n",
       "       'how-rounded-dr12_in-between', 'how-rounded-dr12_cigar-shaped',\n",
       "       'edge-on-bulge-dr12_boxy', 'edge-on-bulge-dr12_none',\n",
       "       'edge-on-bulge-dr12_rounded', 'spiral-winding-dr12_tight',\n",
       "       'spiral-winding-dr12_medium', 'spiral-winding-dr12_loose',\n",
       "       'spiral-arm-count-dr12_1', 'spiral-arm-count-dr12_2',\n",
       "       'spiral-arm-count-dr12_3', 'spiral-arm-count-dr12_4',\n",
       "       'spiral-arm-count-dr12_more-than-4', 'merging-dr12_neither',\n",
       "       'merging-dr12_tidal-debris', 'merging-dr12_both',\n",
       "       'merging-dr12_merger', 'smooth-or-featured-dr5_smooth',\n",
       "       'smooth-or-featured-dr5_featured-or-disk',\n",
       "       'smooth-or-featured-dr5_artifact', 'disk-edge-on-dr5_yes',\n",
       "       'disk-edge-on-dr5_no', 'has-spiral-arms-dr5_yes',\n",
       "       'has-spiral-arms-dr5_no', 'bar-dr5_strong', 'bar-dr5_weak',\n",
       "       'bar-dr5_no', 'bulge-size-dr5_dominant', 'bulge-size-dr5_large',\n",
       "       'bulge-size-dr5_moderate', 'bulge-size-dr5_small',\n",
       "       'bulge-size-dr5_none', 'how-rounded-dr5_round',\n",
       "       'how-rounded-dr5_in-between', 'how-rounded-dr5_cigar-shaped',\n",
       "       'edge-on-bulge-dr5_boxy', 'edge-on-bulge-dr5_none',\n",
       "       'edge-on-bulge-dr5_rounded', 'spiral-winding-dr5_tight',\n",
       "       'spiral-winding-dr5_medium', 'spiral-winding-dr5_loose',\n",
       "       'spiral-arm-count-dr5_1', 'spiral-arm-count-dr5_2',\n",
       "       'spiral-arm-count-dr5_3', 'spiral-arm-count-dr5_4',\n",
       "       'spiral-arm-count-dr5_more-than-4',\n",
       "       'spiral-arm-count-dr5_cant-tell', 'merging-dr5_none',\n",
       "       'merging-dr5_minor-disturbance', 'merging-dr5_major-disturbance',\n",
       "       'merging-dr5_merger', 'smooth-or-featured-dr8_smooth',\n",
       "       'smooth-or-featured-dr8_featured-or-disk',\n",
       "       'smooth-or-featured-dr8_artifact', 'disk-edge-on-dr8_yes',\n",
       "       'disk-edge-on-dr8_no', 'has-spiral-arms-dr8_yes',\n",
       "       'has-spiral-arms-dr8_no', 'bar-dr8_strong', 'bar-dr8_weak',\n",
       "       'bar-dr8_no', 'bulge-size-dr8_dominant', 'bulge-size-dr8_large',\n",
       "       'bulge-size-dr8_moderate', 'bulge-size-dr8_small',\n",
       "       'bulge-size-dr8_none', 'how-rounded-dr8_round',\n",
       "       'how-rounded-dr8_in-between', 'how-rounded-dr8_cigar-shaped',\n",
       "       'edge-on-bulge-dr8_boxy', 'edge-on-bulge-dr8_none',\n",
       "       'edge-on-bulge-dr8_rounded', 'spiral-winding-dr8_tight',\n",
       "       'spiral-winding-dr8_medium', 'spiral-winding-dr8_loose',\n",
       "       'spiral-arm-count-dr8_1', 'spiral-arm-count-dr8_2',\n",
       "       'spiral-arm-count-dr8_3', 'spiral-arm-count-dr8_4',\n",
       "       'spiral-arm-count-dr8_more-than-4',\n",
       "       'spiral-arm-count-dr8_cant-tell', 'merging-dr8_none',\n",
       "       'merging-dr8_minor-disturbance', 'merging-dr8_major-disturbance',\n",
       "       'merging-dr8_merger', 'brickid', 'objid', 'file_loc'], dtype=object)"
      ]
     },
     "execution_count": 11,
     "metadata": {},
     "output_type": "execute_result"
    }
   ],
   "source": [
    "df.columns.values"
   ]
  },
  {
   "cell_type": "code",
   "execution_count": 15,
   "metadata": {},
   "outputs": [],
   "source": [
    "import numpy as np"
   ]
  },
  {
   "cell_type": "code",
   "execution_count": 18,
   "metadata": {},
   "outputs": [
    {
     "data": {
      "text/plain": [
       "False"
      ]
     },
     "execution_count": 18,
     "metadata": {},
     "output_type": "execute_result"
    }
   ],
   "source": [
    "np.any(labelled[decals_all_campaigns_ortho_label_cols].isna())"
   ]
  },
  {
   "cell_type": "code",
   "execution_count": 23,
   "metadata": {},
   "outputs": [
    {
     "data": {
      "text/plain": [
       "True"
      ]
     },
     "execution_count": 23,
     "metadata": {},
     "output_type": "execute_result"
    }
   ],
   "source": [
    "any(labelled[decals_all_campaigns_ortho_label_cols].isna())"
   ]
  },
  {
   "cell_type": "code",
   "execution_count": 22,
   "metadata": {},
   "outputs": [
    {
     "data": {
      "text/plain": [
       "False"
      ]
     },
     "execution_count": 22,
     "metadata": {},
     "output_type": "execute_result"
    }
   ],
   "source": [
    "any(labelled[decals_all_campaigns_ortho_label_cols].isna().values.max(axis=1))"
   ]
  },
  {
   "cell_type": "code",
   "execution_count": 17,
   "metadata": {},
   "outputs": [
    {
     "data": {
      "text/plain": [
       "0.0"
      ]
     },
     "execution_count": 17,
     "metadata": {},
     "output_type": "execute_result"
    }
   ],
   "source": [
    "np.any(labelled[decals_all_campaigns_ortho_label_cols].isna(), axis=1).mean()"
   ]
  },
  {
   "cell_type": "code",
   "execution_count": 12,
   "metadata": {},
   "outputs": [],
   "source": [
    "train_catalog, test_catalog = train_test_split(labelled, test_size=0.2, random_state=42)  # note that because we dropped a few rows which couldn't be cross-matched, this is not the same split as the original_images version"
   ]
  },
  {
   "cell_type": "code",
   "execution_count": 13,
   "metadata": {},
   "outputs": [],
   "source": [
    "# train_catalog.to_parquet('/home/walml/repos/pytorch-galaxy-datasets/roots/legs/legs_all_campaigns_ortho_dr8_only_train_catalog.parquet', index=False)\n",
    "# test_catalog.to_parquet('/home/walml/repos/pytorch-galaxy-datasets/roots/legs/legs_all_campaigns_ortho_dr8_only_test_catalog.parquet', index=False)"
   ]
  },
  {
   "cell_type": "code",
   "execution_count": 14,
   "metadata": {},
   "outputs": [],
   "source": [
    "# unlabelled.to_parquet('/home/walml/repos/pytorch-galaxy-datasets/roots/legs/legs_all_campaigns_ortho_dr8_only_unlabelled_catalog.parquet', index=False)"
   ]
  },
  {
   "cell_type": "code",
   "execution_count": 15,
   "metadata": {},
   "outputs": [
    {
     "ename": "FileNotFoundError",
     "evalue": "[Errno 2] No such file or directory: '/home/walml/repos/pytorch-galaxy-datasets/roots/legs/legs_all_campaigns_ortho_dr8_only_train_catalog.parquet'",
     "output_type": "error",
     "traceback": [
      "\u001b[0;31m---------------------------------------------------------------------------\u001b[0m",
      "\u001b[0;31mFileNotFoundError\u001b[0m                         Traceback (most recent call last)",
      "\u001b[0;32m/tmp/ipykernel_13362/2121439838.py\u001b[0m in \u001b[0;36m<module>\u001b[0;34m\u001b[0m\n\u001b[1;32m      7\u001b[0m ]:\n\u001b[1;32m      8\u001b[0m     \u001b[0;31m# print hash\u001b[0m\u001b[0;34m\u001b[0m\u001b[0;34m\u001b[0m\u001b[0;34m\u001b[0m\u001b[0m\n\u001b[0;32m----> 9\u001b[0;31m     \u001b[0;32mwith\u001b[0m \u001b[0mopen\u001b[0m\u001b[0;34m(\u001b[0m\u001b[0mloc\u001b[0m\u001b[0;34m,\u001b[0m \u001b[0;34m'rb'\u001b[0m\u001b[0;34m)\u001b[0m \u001b[0;32mas\u001b[0m \u001b[0mf\u001b[0m\u001b[0;34m:\u001b[0m\u001b[0;34m\u001b[0m\u001b[0;34m\u001b[0m\u001b[0m\n\u001b[0m\u001b[1;32m     10\u001b[0m         \u001b[0mmd5_checksum\u001b[0m \u001b[0;34m=\u001b[0m \u001b[0mhashlib\u001b[0m\u001b[0;34m.\u001b[0m\u001b[0mmd5\u001b[0m\u001b[0;34m(\u001b[0m\u001b[0mf\u001b[0m\u001b[0;34m.\u001b[0m\u001b[0mread\u001b[0m\u001b[0;34m(\u001b[0m\u001b[0;34m)\u001b[0m\u001b[0;34m)\u001b[0m\u001b[0;34m.\u001b[0m\u001b[0mhexdigest\u001b[0m\u001b[0;34m(\u001b[0m\u001b[0;34m)\u001b[0m\u001b[0;34m\u001b[0m\u001b[0;34m\u001b[0m\u001b[0m\n\u001b[1;32m     11\u001b[0m \u001b[0;34m\u001b[0m\u001b[0m\n",
      "\u001b[0;31mFileNotFoundError\u001b[0m: [Errno 2] No such file or directory: '/home/walml/repos/pytorch-galaxy-datasets/roots/legs/legs_all_campaigns_ortho_dr8_only_train_catalog.parquet'"
     ]
    }
   ],
   "source": [
    "import hashlib\n",
    "\n",
    "for loc in [\n",
    "    '/home/walml/repos/pytorch-galaxy-datasets/roots/legs/legs_all_campaigns_ortho_dr8_only_train_catalog.parquet',\n",
    "    '/home/walml/repos/pytorch-galaxy-datasets/roots/legs/legs_all_campaigns_ortho_dr8_only_test_catalog.parquet',\n",
    "    '/home/walml/repos/pytorch-galaxy-datasets/roots/legs/legs_all_campaigns_ortho_dr8_only_unlabelled_catalog.parquet'\n",
    "]:\n",
    "    # print hash\n",
    "    with open(loc, 'rb') as f:\n",
    "        md5_checksum = hashlib.md5(f.read()).hexdigest()\n",
    "\n",
    "    print(md5_checksum)"
   ]
  },
  {
   "cell_type": "code",
   "execution_count": null,
   "metadata": {},
   "outputs": [],
   "source": []
  }
 ],
 "metadata": {
  "interpreter": {
   "hash": "5ec7511d1fc7a72aba078c8815c4bcacd5404aac7a6282065ad4abec249876bb"
  },
  "kernelspec": {
   "display_name": "Python 3.7.11 ('zoobot')",
   "language": "python",
   "name": "python3"
  },
  "language_info": {
   "codemirror_mode": {
    "name": "ipython",
    "version": 3
   },
   "file_extension": ".py",
   "mimetype": "text/x-python",
   "name": "python",
   "nbconvert_exporter": "python",
   "pygments_lexer": "ipython3",
   "version": "3.7.11"
  },
  "orig_nbformat": 4
 },
 "nbformat": 4,
 "nbformat_minor": 2
}
