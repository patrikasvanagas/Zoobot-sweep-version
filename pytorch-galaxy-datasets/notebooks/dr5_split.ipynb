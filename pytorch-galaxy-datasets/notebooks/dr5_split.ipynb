{
 "cells": [
  {
   "cell_type": "code",
   "execution_count": 10,
   "metadata": {},
   "outputs": [],
   "source": [
    "import os\n",
    "\n",
    "import pandas as pd\n",
    "\n",
    "from sklearn.model_selection import train_test_split\n"
   ]
  },
  {
   "cell_type": "code",
   "execution_count": 11,
   "metadata": {},
   "outputs": [],
   "source": [
    "df = pd.read_parquet('/home/walml/repos/gz-decals-classifiers/data/catalogs/training_catalogs/dr5_ortho_v2_labelled_catalog.parquet')"
   ]
  },
  {
   "cell_type": "code",
   "execution_count": 12,
   "metadata": {},
   "outputs": [
    {
     "data": {
      "text/plain": [
       "0         J100620.35+101629.1.jpg\n",
       "1         J134211.81+004924.8.jpg\n",
       "2         J092340.76+315919.6.jpg\n",
       "3         J004227.53-094035.9.jpg\n",
       "4         J090836.47+161152.8.jpg\n",
       "                   ...           \n",
       "228054    J122534.65+053027.7.jpg\n",
       "228055    J003030.77-004649.8.jpg\n",
       "228056    J103209.38+015139.6.jpg\n",
       "228057    J123453.23+092012.5.jpg\n",
       "228058    J142649.80+264337.4.jpg\n",
       "Name: filename, Length: 228059, dtype: object"
      ]
     },
     "execution_count": 12,
     "metadata": {},
     "output_type": "execute_result"
    }
   ],
   "source": [
    "df['filename'] = df['file_loc'].apply(lambda x: os.path.basename(x).replace('.png', '.jpg'))\n",
    "df['filename'] "
   ]
  },
  {
   "cell_type": "code",
   "execution_count": 13,
   "metadata": {},
   "outputs": [
    {
     "data": {
      "text/plain": [
       "0         J100\n",
       "1         J134\n",
       "2         J092\n",
       "3         J004\n",
       "4         J090\n",
       "          ... \n",
       "228054    J122\n",
       "228055    J003\n",
       "228056    J103\n",
       "228057    J123\n",
       "228058    J142\n",
       "Name: subfolder, Length: 228059, dtype: object"
      ]
     },
     "execution_count": 13,
     "metadata": {},
     "output_type": "execute_result"
    }
   ],
   "source": [
    "df['subfolder'] = df['filename'].apply(lambda x: x[:4])\n",
    "df['subfolder']"
   ]
  },
  {
   "cell_type": "code",
   "execution_count": 14,
   "metadata": {},
   "outputs": [
    {
     "data": {
      "text/plain": [
       "'/share/nas/walml/galaxy_zoo/decals/dr5/png/dr5/J100/J100620.35+101629.1.png'"
      ]
     },
     "execution_count": 14,
     "metadata": {},
     "output_type": "execute_result"
    }
   ],
   "source": [
    "# del df['file_loc']\n",
    "df['file_loc'][0]"
   ]
  },
  {
   "cell_type": "code",
   "execution_count": 15,
   "metadata": {},
   "outputs": [],
   "source": [
    "train_catalog, test_catalog = train_test_split(df, test_size=0.2, random_state=42)"
   ]
  },
  {
   "cell_type": "code",
   "execution_count": 16,
   "metadata": {},
   "outputs": [],
   "source": [
    "# train_catalog.to_parquet('/home/walml/repos/pytorch-galaxy-datasets/roots/decals_dr5/decals_dr5_ortho_train_catalog.parquet', index=False)\n",
    "# test_catalog.to_parquet('/home/walml/repos/pytorch-galaxy-datasets/roots/decals_dr5/decals_dr5_ortho_test_catalog.parquet', index=False)"
   ]
  },
  {
   "cell_type": "code",
   "execution_count": 17,
   "metadata": {},
   "outputs": [
    {
     "name": "stdout",
     "output_type": "stream",
     "text": [
      "a0cd74edc073fdff068370f6eefeb802\n",
      "55820e3712b22e587f6971e4b6c73dfe\n"
     ]
    }
   ],
   "source": [
    "import hashlib\n",
    "\n",
    "for loc in [\n",
    "    '/home/walml/repos/pytorch-galaxy-datasets/roots/decals_dr5/decals_dr5_ortho_train_catalog.parquet',\n",
    "    '/home/walml/repos/pytorch-galaxy-datasets/roots/decals_dr5/decals_dr5_ortho_test_catalog.parquet'\n",
    "]:\n",
    "    # print hash\n",
    "    with open(loc, 'rb') as f:\n",
    "        md5_checksum = hashlib.md5(f.read()).hexdigest()\n",
    "\n",
    "    print(md5_checksum)"
   ]
  },
  {
   "cell_type": "code",
   "execution_count": 18,
   "metadata": {},
   "outputs": [
    {
     "name": "stdout",
     "output_type": "stream",
     "text": [
      "1347de4c8df4ec579d5a58241c1f280b\n"
     ]
    }
   ],
   "source": [
    "# print hash\n",
    "with open('/nvme1/scratch/walml/repos/pytorch-galaxy-datasets/roots/decals_dr5/decals_dr5_images.tar.gz', 'rb') as f:\n",
    "    md5_checksum = hashlib.md5(f.read()).hexdigest()\n",
    "\n",
    "print(md5_checksum)"
   ]
  }
 ],
 "metadata": {
  "interpreter": {
   "hash": "5ec7511d1fc7a72aba078c8815c4bcacd5404aac7a6282065ad4abec249876bb"
  },
  "kernelspec": {
   "display_name": "Python 3.7.11 ('zoobot')",
   "language": "python",
   "name": "python3"
  },
  "language_info": {
   "codemirror_mode": {
    "name": "ipython",
    "version": 3
   },
   "file_extension": ".py",
   "mimetype": "text/x-python",
   "name": "python",
   "nbconvert_exporter": "python",
   "pygments_lexer": "ipython3",
   "version": "3.7.11"
  },
  "orig_nbformat": 4
 },
 "nbformat": 4,
 "nbformat_minor": 2
}
