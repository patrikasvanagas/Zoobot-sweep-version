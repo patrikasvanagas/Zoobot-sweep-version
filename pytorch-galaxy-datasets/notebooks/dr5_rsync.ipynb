{
 "cells": [
  {
   "cell_type": "code",
   "execution_count": 1,
   "metadata": {},
   "outputs": [],
   "source": [
    "import pandas as pd"
   ]
  },
  {
   "cell_type": "code",
   "execution_count": 2,
   "metadata": {},
   "outputs": [],
   "source": [
    "train_catalog = pd.read_parquet('/home/walml/repos/pytorch-galaxy-datasets/derived_data/catalogs/decals_dr5_ortho_train_catalog.parquet')\n",
    "test_catalog = pd.read_parquet('/home/walml/repos/pytorch-galaxy-datasets/derived_data/catalogs/decals_dr5_ortho_test_catalog.parquet')"
   ]
  },
  {
   "cell_type": "code",
   "execution_count": 28,
   "metadata": {},
   "outputs": [],
   "source": [
    "train_catalog['file_loc'] =  train_catalog['subfolder'] + '/' + train_catalog['filename'].str.replace('jpg', 'jpeg')\n",
    "test_catalog['file_loc'] =  test_catalog['subfolder'] + '/' + test_catalog['filename'].str.replace('jpg', 'jpeg')"
   ]
  },
  {
   "cell_type": "code",
   "execution_count": 29,
   "metadata": {},
   "outputs": [
    {
     "data": {
      "text/plain": [
       "['J143/J143752.90+292250.0.jpeg',\n",
       " 'J115/J115319.63+274642.4.jpeg',\n",
       " 'J091/J091304.01+132345.6.jpeg']"
      ]
     },
     "execution_count": 29,
     "metadata": {},
     "output_type": "execute_result"
    }
   ],
   "source": [
    "all_files = list(train_catalog['file_loc']) + list(test_catalog['file_loc'])\n",
    "all_files[:3]"
   ]
  },
  {
   "cell_type": "code",
   "execution_count": 30,
   "metadata": {},
   "outputs": [],
   "source": [
    "all_files_path = '/nvme1/scratch/walml/repos/pytorch-galaxy-datasets/notebooks/temp_dr5_all_files.csv'"
   ]
  },
  {
   "cell_type": "code",
   "execution_count": 31,
   "metadata": {},
   "outputs": [],
   "source": [
    "with open(all_files_path, 'w') as f:\n",
    "    f.write('\\n'.join(all_files))"
   ]
  },
  {
   "cell_type": "code",
   "execution_count": 34,
   "metadata": {},
   "outputs": [
    {
     "name": "stdout",
     "output_type": "stream",
     "text": [
      "rsync --dry-run --files-from /nvme1/scratch/walml/repos/pytorch-galaxy-datasets/notebooks/temp_dr5_all_files.csv walml@galahad.ast.man.ac.uk:/share/nas2/walml/galaxy_zoo/decals/dr5/jpeg/ /home/walml/repos/pytorch-galaxy-datasets/derived_data/dr5_to_upload\n"
     ]
    }
   ],
   "source": [
    "!echo rsync --dry-run --files-from {all_files_path} walml@galahad.ast.man.ac.uk:/share/nas2/walml/galaxy_zoo/decals/dr5/jpeg/ /home/walml/repos/pytorch-galaxy-datasets/derived_data/dr5_to_upload"
   ]
  },
  {
   "cell_type": "code",
   "execution_count": 35,
   "metadata": {},
   "outputs": [],
   "source": [
    "# !rsync --dry-run --files-from {all_files_path} walml@galahad.ast.man.ac.uk:/share/nas2/walml/galaxy_zoo/decals/dr5/jpeg/ /home/walml/repos/pytorch-galaxy-datasets/derived_data/dr5_to_upload"
   ]
  },
  {
   "cell_type": "code",
   "execution_count": null,
   "metadata": {},
   "outputs": [],
   "source": [
    "# and then `rename  J00*/*.jpeg J00*/*.jpg`` for consistency"
   ]
  }
 ],
 "metadata": {
  "interpreter": {
   "hash": "5ec7511d1fc7a72aba078c8815c4bcacd5404aac7a6282065ad4abec249876bb"
  },
  "kernelspec": {
   "display_name": "Python 3.7.11 ('zoobot')",
   "language": "python",
   "name": "python3"
  },
  "language_info": {
   "codemirror_mode": {
    "name": "ipython",
    "version": 3
   },
   "file_extension": ".py",
   "mimetype": "text/x-python",
   "name": "python",
   "nbconvert_exporter": "python",
   "pygments_lexer": "ipython3",
   "version": "3.7.11"
  },
  "orig_nbformat": 4
 },
 "nbformat": 4,
 "nbformat_minor": 2
}
