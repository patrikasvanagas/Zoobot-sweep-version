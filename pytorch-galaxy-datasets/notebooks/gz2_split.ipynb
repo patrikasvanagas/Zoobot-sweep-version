{
 "cells": [
  {
   "cell_type": "code",
   "execution_count": 1,
   "metadata": {},
   "outputs": [],
   "source": [
    "import os\n",
    "\n",
    "import pandas as pd\n",
    "import numpy as np\n",
    "\n",
    "from sklearn.model_selection import train_test_split\n"
   ]
  },
  {
   "cell_type": "code",
   "execution_count": 2,
   "metadata": {},
   "outputs": [],
   "source": [
    "df = pd.read_parquet(\n",
    "    '/nvme1/scratch/walml/repos/curation-datasets/gz2_downloadable_catalog.parquet'\n",
    "    # columns=useful_cols\n",
    ")"
   ]
  },
  {
   "cell_type": "code",
   "execution_count": 3,
   "metadata": {},
   "outputs": [
    {
     "data": {
      "text/plain": [
       "209239"
      ]
     },
     "execution_count": 3,
     "metadata": {},
     "output_type": "execute_result"
    }
   ],
   "source": [
    "len(df)"
   ]
  },
  {
   "cell_type": "code",
   "execution_count": 4,
   "metadata": {},
   "outputs": [
    {
     "data": {
      "text/plain": [
       " 0    78460\n",
       " 1    54997\n",
       " 4    26132\n",
       " 2    19734\n",
       "-1    11762\n",
       " 5     9246\n",
       " 3     4613\n",
       " 6     4295\n",
       "Name: label, dtype: int64"
      ]
     },
     "execution_count": 4,
     "metadata": {},
     "output_type": "execute_result"
    }
   ],
   "source": [
    "df['label'].value_counts()  # -1 if could not be assigned to leaf -but not dropped"
   ]
  },
  {
   "cell_type": "code",
   "execution_count": 5,
   "metadata": {},
   "outputs": [
    {
     "data": {
      "text/html": [
       "<div>\n",
       "<style scoped>\n",
       "    .dataframe tbody tr th:only-of-type {\n",
       "        vertical-align: middle;\n",
       "    }\n",
       "\n",
       "    .dataframe tbody tr th {\n",
       "        vertical-align: top;\n",
       "    }\n",
       "\n",
       "    .dataframe thead th {\n",
       "        text-align: right;\n",
       "    }\n",
       "</style>\n",
       "<table border=\"1\" class=\"dataframe\">\n",
       "  <thead>\n",
       "    <tr style=\"text-align: right;\">\n",
       "      <th></th>\n",
       "      <th>dr7objid</th>\n",
       "      <th>png_loc</th>\n",
       "      <th>smooth-or-featured_smooth</th>\n",
       "      <th>smooth-or-featured_featured-or-disk</th>\n",
       "      <th>smooth-or-featured_artifact</th>\n",
       "      <th>disk-edge-on_yes</th>\n",
       "      <th>disk-edge-on_no</th>\n",
       "      <th>bar_yes</th>\n",
       "      <th>bar_no</th>\n",
       "      <th>has-spiral-arms_yes</th>\n",
       "      <th>...</th>\n",
       "      <th>bulge-shape_semantic</th>\n",
       "      <th>spiral-winding_semantic</th>\n",
       "      <th>spiral-arm-count_semantic</th>\n",
       "      <th>temp_semantic_label</th>\n",
       "      <th>summary</th>\n",
       "      <th>leaf_prob</th>\n",
       "      <th>sample</th>\n",
       "      <th>asset_id</th>\n",
       "      <th>filename</th>\n",
       "      <th>label</th>\n",
       "    </tr>\n",
       "  </thead>\n",
       "  <tbody>\n",
       "    <tr>\n",
       "      <th>0</th>\n",
       "      <td>587732591714893851</td>\n",
       "      <td>/raid/scratch/walml/galaxy_zoo/gz2/png/587732/...</td>\n",
       "      <td>0</td>\n",
       "      <td>42</td>\n",
       "      <td>3</td>\n",
       "      <td>2</td>\n",
       "      <td>40</td>\n",
       "      <td>1</td>\n",
       "      <td>39</td>\n",
       "      <td>40</td>\n",
       "      <td>...</td>\n",
       "      <td>-</td>\n",
       "      <td>spiral-winding_tight</td>\n",
       "      <td>spiral-arm-count_more-than-4</td>\n",
       "      <td>smooth-or-featured_featured-or-disk - disk-edg...</td>\n",
       "      <td>unbarred_spiral</td>\n",
       "      <td>0.866667</td>\n",
       "      <td>original</td>\n",
       "      <td>58957</td>\n",
       "      <td>58957.jpg</td>\n",
       "      <td>4</td>\n",
       "    </tr>\n",
       "    <tr>\n",
       "      <th>1</th>\n",
       "      <td>588009368545984617</td>\n",
       "      <td>/raid/scratch/walml/galaxy_zoo/gz2/png/588009/...</td>\n",
       "      <td>1</td>\n",
       "      <td>41</td>\n",
       "      <td>0</td>\n",
       "      <td>0</td>\n",
       "      <td>41</td>\n",
       "      <td>4</td>\n",
       "      <td>37</td>\n",
       "      <td>41</td>\n",
       "      <td>...</td>\n",
       "      <td>-</td>\n",
       "      <td>spiral-winding_tight</td>\n",
       "      <td>spiral-arm-count_more-than-4</td>\n",
       "      <td>smooth-or-featured_featured-or-disk - disk-edg...</td>\n",
       "      <td>unbarred_spiral</td>\n",
       "      <td>0.880952</td>\n",
       "      <td>original</td>\n",
       "      <td>193641</td>\n",
       "      <td>193641.jpg</td>\n",
       "      <td>4</td>\n",
       "    </tr>\n",
       "    <tr>\n",
       "      <th>2</th>\n",
       "      <td>587732484359913515</td>\n",
       "      <td>/raid/scratch/walml/galaxy_zoo/gz2/png/587732/...</td>\n",
       "      <td>28</td>\n",
       "      <td>5</td>\n",
       "      <td>3</td>\n",
       "      <td>0</td>\n",
       "      <td>5</td>\n",
       "      <td>2</td>\n",
       "      <td>3</td>\n",
       "      <td>0</td>\n",
       "      <td>...</td>\n",
       "      <td>-</td>\n",
       "      <td>-</td>\n",
       "      <td>-</td>\n",
       "      <td>smooth-or-featured_smooth how-rounded_in-betwe...</td>\n",
       "      <td>smooth_inbetween</td>\n",
       "      <td>0.638889</td>\n",
       "      <td>original</td>\n",
       "      <td>55934</td>\n",
       "      <td>55934.jpg</td>\n",
       "      <td>0</td>\n",
       "    </tr>\n",
       "    <tr>\n",
       "      <th>3</th>\n",
       "      <td>587741723357282317</td>\n",
       "      <td>/raid/scratch/walml/galaxy_zoo/gz2/png/587741/...</td>\n",
       "      <td>1</td>\n",
       "      <td>27</td>\n",
       "      <td>0</td>\n",
       "      <td>1</td>\n",
       "      <td>26</td>\n",
       "      <td>1</td>\n",
       "      <td>25</td>\n",
       "      <td>25</td>\n",
       "      <td>...</td>\n",
       "      <td>-</td>\n",
       "      <td>spiral-winding_tight</td>\n",
       "      <td>deadlock</td>\n",
       "      <td>smooth-or-featured_featured-or-disk - disk-edg...</td>\n",
       "      <td>unbarred_spiral</td>\n",
       "      <td>0.858516</td>\n",
       "      <td>original</td>\n",
       "      <td>158501</td>\n",
       "      <td>158501.jpg</td>\n",
       "      <td>4</td>\n",
       "    </tr>\n",
       "    <tr>\n",
       "      <th>4</th>\n",
       "      <td>587738410866966577</td>\n",
       "      <td>/raid/scratch/walml/galaxy_zoo/gz2/png/587738/...</td>\n",
       "      <td>33</td>\n",
       "      <td>8</td>\n",
       "      <td>2</td>\n",
       "      <td>1</td>\n",
       "      <td>7</td>\n",
       "      <td>0</td>\n",
       "      <td>7</td>\n",
       "      <td>0</td>\n",
       "      <td>...</td>\n",
       "      <td>-</td>\n",
       "      <td>-</td>\n",
       "      <td>-</td>\n",
       "      <td>smooth-or-featured_smooth how-rounded_round - - -</td>\n",
       "      <td>smooth_round</td>\n",
       "      <td>0.418605</td>\n",
       "      <td>original</td>\n",
       "      <td>110939</td>\n",
       "      <td>110939.jpg</td>\n",
       "      <td>1</td>\n",
       "    </tr>\n",
       "  </tbody>\n",
       "</table>\n",
       "<p>5 rows × 89 columns</p>\n",
       "</div>"
      ],
      "text/plain": [
       "             dr7objid                                            png_loc  \\\n",
       "0  587732591714893851  /raid/scratch/walml/galaxy_zoo/gz2/png/587732/...   \n",
       "1  588009368545984617  /raid/scratch/walml/galaxy_zoo/gz2/png/588009/...   \n",
       "2  587732484359913515  /raid/scratch/walml/galaxy_zoo/gz2/png/587732/...   \n",
       "3  587741723357282317  /raid/scratch/walml/galaxy_zoo/gz2/png/587741/...   \n",
       "4  587738410866966577  /raid/scratch/walml/galaxy_zoo/gz2/png/587738/...   \n",
       "\n",
       "   smooth-or-featured_smooth  smooth-or-featured_featured-or-disk  \\\n",
       "0                          0                                   42   \n",
       "1                          1                                   41   \n",
       "2                         28                                    5   \n",
       "3                          1                                   27   \n",
       "4                         33                                    8   \n",
       "\n",
       "   smooth-or-featured_artifact  disk-edge-on_yes  disk-edge-on_no  bar_yes  \\\n",
       "0                            3                 2               40        1   \n",
       "1                            0                 0               41        4   \n",
       "2                            3                 0                5        2   \n",
       "3                            0                 1               26        1   \n",
       "4                            2                 1                7        0   \n",
       "\n",
       "   bar_no  has-spiral-arms_yes  ...  bulge-shape_semantic  \\\n",
       "0      39                   40  ...                     -   \n",
       "1      37                   41  ...                     -   \n",
       "2       3                    0  ...                     -   \n",
       "3      25                   25  ...                     -   \n",
       "4       7                    0  ...                     -   \n",
       "\n",
       "   spiral-winding_semantic     spiral-arm-count_semantic  \\\n",
       "0     spiral-winding_tight  spiral-arm-count_more-than-4   \n",
       "1     spiral-winding_tight  spiral-arm-count_more-than-4   \n",
       "2                        -                             -   \n",
       "3     spiral-winding_tight                      deadlock   \n",
       "4                        -                             -   \n",
       "\n",
       "                                 temp_semantic_label           summary  \\\n",
       "0  smooth-or-featured_featured-or-disk - disk-edg...   unbarred_spiral   \n",
       "1  smooth-or-featured_featured-or-disk - disk-edg...   unbarred_spiral   \n",
       "2  smooth-or-featured_smooth how-rounded_in-betwe...  smooth_inbetween   \n",
       "3  smooth-or-featured_featured-or-disk - disk-edg...   unbarred_spiral   \n",
       "4  smooth-or-featured_smooth how-rounded_round - - -      smooth_round   \n",
       "\n",
       "   leaf_prob    sample  asset_id    filename  label  \n",
       "0   0.866667  original     58957   58957.jpg      4  \n",
       "1   0.880952  original    193641  193641.jpg      4  \n",
       "2   0.638889  original     55934   55934.jpg      0  \n",
       "3   0.858516  original    158501  158501.jpg      4  \n",
       "4   0.418605  original    110939  110939.jpg      1  \n",
       "\n",
       "[5 rows x 89 columns]"
      ]
     },
     "execution_count": 5,
     "metadata": {},
     "output_type": "execute_result"
    }
   ],
   "source": [
    "df.head()"
   ]
  },
  {
   "cell_type": "code",
   "execution_count": 6,
   "metadata": {},
   "outputs": [],
   "source": [
    "df['id_str'] = df['dr7objid']\n",
    "del df['asset_id']\n",
    "del df['dr7objid']"
   ]
  },
  {
   "cell_type": "code",
   "execution_count": 7,
   "metadata": {},
   "outputs": [],
   "source": [
    "# convert to ortho labels\n",
    "from zoobot.shared import label_metadata\n",
    "\n",
    "current_labels = label_metadata.gz2_label_cols\n",
    "ortho_labels = label_metadata.gz2_ortho_label_cols\n",
    "\n",
    "count_renamer = dict(zip(current_labels, ortho_labels))\n",
    "\n",
    "fraction_renamer = dict(zip([x + '_fraction' for x in current_labels], [x + '_fraction' for x in ortho_labels]))\n",
    "\n",
    "renamer = count_renamer\n",
    "renamer.update(fraction_renamer)\n",
    "# renamer\n",
    "\n",
    "df = df.rename(columns=renamer)"
   ]
  },
  {
   "cell_type": "code",
   "execution_count": 9,
   "metadata": {},
   "outputs": [
    {
     "data": {
      "text/plain": [
       "(1.0, 0)"
      ]
     },
     "execution_count": 9,
     "metadata": {},
     "output_type": "execute_result"
    }
   ],
   "source": [
    "temp = '/home/walml/repos/pytorch-galaxy-datasets/roots/gz2/images/' + df['filename']\n",
    "\n",
    "import os\n",
    "assert os.path.isfile(temp[0])\n",
    "\n",
    "is_file = [os.path.isfile(loc) for loc in temp]\n",
    "np.mean(is_file), len(is_file) -  np.sum(is_file)"
   ]
  },
  {
   "cell_type": "code",
   "execution_count": 10,
   "metadata": {},
   "outputs": [],
   "source": [
    "from PIL import Image\n",
    "\n",
    "for loc in temp:\n",
    "    if not Image.open(loc).size == (424, 424):\n",
    "        print(loc)\n",
    "        break"
   ]
  },
  {
   "cell_type": "code",
   "execution_count": 13,
   "metadata": {},
   "outputs": [],
   "source": [
    "train_catalog_loc = '/home/walml/repos/pytorch-galaxy-datasets/roots/gz2/gz2_train_catalog.parquet'\n",
    "test_catalog_loc = '/home/walml/repos/pytorch-galaxy-datasets/roots/gz2/gz2_test_catalog.parquet'\n",
    "\n",
    "# zip not tar.gz as directly from Zenodo\n",
    "images_loc = '/nvme1/scratch/walml/repos/pytorch-galaxy-datasets/roots/gz2/images_gz2.zip'"
   ]
  },
  {
   "cell_type": "code",
   "execution_count": 14,
   "metadata": {},
   "outputs": [],
   "source": [
    "train_catalog, test_catalog = train_test_split(df, test_size=0.2, random_state=42)\n",
    "\n",
    "train_catalog.to_parquet(train_catalog_loc, index=False)\n",
    "test_catalog.to_parquet(test_catalog_loc, index=False)"
   ]
  },
  {
   "cell_type": "code",
   "execution_count": 15,
   "metadata": {},
   "outputs": [
    {
     "name": "stdout",
     "output_type": "stream",
     "text": [
      "f489c9ec7dcf8d99f728bd00ee00b1d0\n",
      "8b2d74c93d35f86cc34f1d058b3b220b\n",
      "bc647032d31e50c798770cf4430525c7\n"
     ]
    }
   ],
   "source": [
    "import hashlib\n",
    "\n",
    "for loc in [\n",
    "    train_catalog_loc,\n",
    "    test_catalog_loc,\n",
    "    images_loc  # compressed from images above, takes 5 secs\n",
    "]:\n",
    "    # print hash\n",
    "    with open(loc, 'rb') as f:\n",
    "        md5_checksum = hashlib.md5(f.read()).hexdigest()\n",
    "\n",
    "    print(md5_checksum)"
   ]
  }
 ],
 "metadata": {
  "interpreter": {
   "hash": "5ec7511d1fc7a72aba078c8815c4bcacd5404aac7a6282065ad4abec249876bb"
  },
  "kernelspec": {
   "display_name": "Python 3.7.11 ('zoobot')",
   "language": "python",
   "name": "python3"
  },
  "language_info": {
   "codemirror_mode": {
    "name": "ipython",
    "version": 3
   },
   "file_extension": ".py",
   "mimetype": "text/x-python",
   "name": "python",
   "nbconvert_exporter": "python",
   "pygments_lexer": "ipython3",
   "version": "3.7.11"
  },
  "orig_nbformat": 4
 },
 "nbformat": 4,
 "nbformat_minor": 2
}
